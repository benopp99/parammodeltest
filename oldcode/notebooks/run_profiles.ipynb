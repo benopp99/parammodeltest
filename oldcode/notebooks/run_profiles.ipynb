import sys
import tables
import h5py
import glob as glob
import os
import numpy as np
import scipy.stats as scist
import coldens_ben.coldens as coldens
import matplotlib.pyplot as plt
import matplotlib as mpl
import hse_spherical 



